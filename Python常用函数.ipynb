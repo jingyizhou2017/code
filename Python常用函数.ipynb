{
 "cells": [
  {
   "cell_type": "code",
   "execution_count": 86,
   "metadata": {},
   "outputs": [
    {
     "data": {
      "text/plain": [
       "'3.142'"
      ]
     },
     "execution_count": 86,
     "metadata": {},
     "output_type": "execute_result"
    }
   ],
   "source": [
    "#保留小数点后几位\n",
    "'%.3f'%3.14156"
   ]
  },
  {
   "cell_type": "code",
   "execution_count": 91,
   "metadata": {},
   "outputs": [
    {
     "data": {
      "text/plain": [
       "'1:a,2:b'"
      ]
     },
     "execution_count": 91,
     "metadata": {},
     "output_type": "execute_result"
    }
   ],
   "source": [
    "#字符串格式化函数\n",
    "\"1:{},2:{}\".format('a', 'b')"
   ]
  },
  {
   "cell_type": "code",
   "execution_count": 88,
   "metadata": {},
   "outputs": [
    {
     "name": "stdout",
     "output_type": "stream",
     "text": [
      "1 2 3 4\n"
     ]
    },
    {
     "data": {
      "text/plain": [
       "['1', '2', '3', '4']"
      ]
     },
     "execution_count": 88,
     "metadata": {},
     "output_type": "execute_result"
    }
   ],
   "source": [
    "#字符串分割\n",
    "x = input()\n",
    "x.split(' ')"
   ]
  },
  {
   "cell_type": "code",
   "execution_count": 89,
   "metadata": {},
   "outputs": [
    {
     "name": "stdout",
     "output_type": "stream",
     "text": [
      "1234 5\n"
     ]
    },
    {
     "data": {
      "text/plain": [
       "'1,2,3,4, ,5'"
      ]
     },
     "execution_count": 89,
     "metadata": {},
     "output_type": "execute_result"
    }
   ],
   "source": [
    "#字符串合并\n",
    "x = input()\n",
    "','.join(x)"
   ]
  },
  {
   "cell_type": "code",
   "execution_count": 95,
   "metadata": {},
   "outputs": [
    {
     "name": "stdout",
     "output_type": "stream",
     "text": [
      "123\n"
     ]
    },
    {
     "data": {
      "text/plain": [
       "'score1:1,score2:2,score3:3'"
      ]
     },
     "execution_count": 95,
     "metadata": {},
     "output_type": "execute_result"
    }
   ],
   "source": [
    "#enumerate函数返回index和value\n",
    "x = list(input())\n",
    "result = []\n",
    "for i,v in enumerate(x):\n",
    "    #result.append(\"score{}:{}\".format(str(i+1),v))\n",
    "    result.append(f\"score{i+1}:{v}\")\n",
    "','.join(result)"
   ]
  },
  {
   "cell_type": "code",
   "execution_count": 100,
   "metadata": {
    "scrolled": true
   },
   "outputs": [
    {
     "name": "stdout",
     "output_type": "stream",
     "text": [
      "00\n",
      "11\n",
      "22\n",
      "33\n",
      "44\n",
      "55\n",
      "66\n",
      "77\n",
      "88\n",
      "99\n"
     ]
    }
   ],
   "source": [
    "#zip函数\n",
    "for i,j in zip(range(10),range(10)):\n",
    "    print(str(i)+str(j))"
   ]
  },
  {
   "cell_type": "code",
   "execution_count": 36,
   "metadata": {},
   "outputs": [
    {
     "data": {
      "text/plain": [
       "97"
      ]
     },
     "execution_count": 36,
     "metadata": {},
     "output_type": "execute_result"
    }
   ],
   "source": [
    "#返回ascii值\n",
    "ord('a')"
   ]
  },
  {
   "cell_type": "code",
   "execution_count": 58,
   "metadata": {},
   "outputs": [
    {
     "name": "stdout",
     "output_type": "stream",
     "text": [
      "12;85.555,86.33,100.00\n",
      "The each subject score of No. 12 is 85.56, 86.33, 100.00.\n"
     ]
    }
   ],
   "source": [
    "#精度问题\n",
    "info = input().split(';')\n",
    "user_id,score = info[0],['%.2f'%(float(i)+0.0001) for i in info[1].split(',')]\n",
    "print(f'The each subject score of No. {user_id} is {score[0]}, {score[1]}, {score[2]}.')"
   ]
  },
  {
   "cell_type": "code",
   "execution_count": 61,
   "metadata": {},
   "outputs": [
    {
     "data": {
      "text/plain": [
       "{'a': 'ak'}"
      ]
     },
     "execution_count": 61,
     "metadata": {},
     "output_type": "execute_result"
    }
   ],
   "source": [
    "{i:i+'k' for i in [\"a\"]}"
   ]
  },
  {
   "cell_type": "code",
   "execution_count": 66,
   "metadata": {},
   "outputs": [
    {
     "data": {
      "text/plain": [
       "[2, 4, 6, 8, 10]"
      ]
     },
     "execution_count": 66,
     "metadata": {},
     "output_type": "execute_result"
    }
   ],
   "source": [
    "#列表推导式\n",
    "a = [1,2,3,4,5]\n",
    "[i*2 for i in a]"
   ]
  },
  {
   "cell_type": "code",
   "execution_count": 72,
   "metadata": {},
   "outputs": [
    {
     "data": {
      "text/plain": [
       "{'a': '11', 'b': '22'}"
      ]
     },
     "execution_count": 72,
     "metadata": {},
     "output_type": "execute_result"
    }
   ],
   "source": [
    "#字典推导式a[i][j]\n",
    "a = [(\"a\",\"1\"), (\"b\",\"2\")]\n",
    "{i:j*2 for i,j in a}"
   ]
  },
  {
   "cell_type": "code",
   "execution_count": 17,
   "metadata": {},
   "outputs": [
    {
     "name": "stdout",
     "output_type": "stream",
     "text": [
      "19960315\n",
      "year=1996\n",
      "month=03\n",
      "date=15\n"
     ]
    }
   ],
   "source": [
    "#字符串切片\n",
    "x = input()\n",
    "print(f'year={x[0:4]}')\n",
    "print(f'month={x[4:6]}')\n",
    "print(f'date={x[6:8]}')"
   ]
  },
  {
   "cell_type": "code",
   "execution_count": 43,
   "metadata": {},
   "outputs": [
    {
     "name": "stdout",
     "output_type": "stream",
     "text": [
      "zjy=12,yyz=13\n",
      "zjy=13,yyz=12\n"
     ]
    }
   ],
   "source": [
    "#多次分割\n",
    "x = input().split(',')\n",
    "print(f\"{x[0].split('=')[0]}={x[1].split('=')[1]},{x[1].split('=')[0]}={x[0].split('=')[1]}\")"
   ]
  },
  {
   "cell_type": "code",
   "execution_count": 12,
   "metadata": {},
   "outputs": [
    {
     "name": "stdout",
     "output_type": "stream",
     "text": [
      "7\n",
      "7\n",
      "end\n",
      "6\n",
      "end\n",
      "no break\n"
     ]
    }
   ],
   "source": [
    "#while 循环，满足条件进入try--报错break--每次运算无论是否报错均进入finally--循环结束且无break进入else\n",
    "x = int(input())\n",
    "while x>5:\n",
    "    try:\n",
    "        print(x)\n",
    "        x-=1\n",
    "    except:\n",
    "        break\n",
    "    finally:\n",
    "        print('end')\n",
    "else:\n",
    "    print(\"no break\")"
   ]
  },
  {
   "cell_type": "code",
   "execution_count": 18,
   "metadata": {},
   "outputs": [
    {
     "name": "stdout",
     "output_type": "stream",
     "text": [
      "unsupported operand type(s) for +=: 'int' and 'str'\n",
      "Traceback (most recent call last):\n",
      "  File \"<ipython-input-18-d0540af36a52>\", line 5, in test\n",
      "    x+='1'\n",
      "TypeError: unsupported operand type(s) for +=: 'int' and 'str'\n",
      "\n"
     ]
    },
    {
     "data": {
      "text/plain": [
       "3"
      ]
     },
     "execution_count": 18,
     "metadata": {},
     "output_type": "execute_result"
    }
   ],
   "source": [
    "#打印报错\n",
    "import traceback\n",
    "def test():\n",
    "    try:\n",
    "        x = 0\n",
    "        x+='1'\n",
    "        return x\n",
    "    except Exception as e:\n",
    "        print(e) #打印报错\n",
    "        print(traceback.format_exc()) #打印详细报错\n",
    "        return 2\n",
    "    #finally>return:一般情况下函数内，return完以后结束函数内执行，但finally依旧会运行\n",
    "    finally:\n",
    "        return 3\n",
    "test()"
   ]
  },
  {
   "cell_type": "code",
   "execution_count": null,
   "metadata": {},
   "outputs": [],
   "source": []
  },
  {
   "cell_type": "code",
   "execution_count": null,
   "metadata": {},
   "outputs": [],
   "source": []
  },
  {
   "cell_type": "code",
   "execution_count": null,
   "metadata": {},
   "outputs": [],
   "source": []
  },
  {
   "cell_type": "code",
   "execution_count": null,
   "metadata": {},
   "outputs": [],
   "source": []
  },
  {
   "cell_type": "code",
   "execution_count": null,
   "metadata": {},
   "outputs": [],
   "source": []
  },
  {
   "cell_type": "code",
   "execution_count": null,
   "metadata": {},
   "outputs": [],
   "source": []
  },
  {
   "cell_type": "code",
   "execution_count": null,
   "metadata": {},
   "outputs": [],
   "source": []
  },
  {
   "cell_type": "code",
   "execution_count": null,
   "metadata": {},
   "outputs": [],
   "source": []
  },
  {
   "cell_type": "code",
   "execution_count": null,
   "metadata": {},
   "outputs": [],
   "source": []
  },
  {
   "cell_type": "code",
   "execution_count": null,
   "metadata": {},
   "outputs": [],
   "source": []
  },
  {
   "cell_type": "code",
   "execution_count": null,
   "metadata": {},
   "outputs": [],
   "source": []
  }
 ],
 "metadata": {
  "kernelspec": {
   "display_name": "Python 3",
   "language": "python",
   "name": "python3"
  },
  "language_info": {
   "codemirror_mode": {
    "name": "ipython",
    "version": 3
   },
   "file_extension": ".py",
   "mimetype": "text/x-python",
   "name": "python",
   "nbconvert_exporter": "python",
   "pygments_lexer": "ipython3",
   "version": "3.8.5"
  }
 },
 "nbformat": 4,
 "nbformat_minor": 4
}
